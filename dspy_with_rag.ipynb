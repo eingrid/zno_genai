{
 "cells": [
  {
   "cell_type": "code",
   "execution_count": 1,
   "metadata": {},
   "outputs": [
    {
     "name": "stderr",
     "output_type": "stream",
     "text": [
      "/home/nazara/Data/UCU/FINETUNE_GENAI/env/lib/python3.12/site-packages/tqdm/auto.py:21: TqdmWarning: IProgress not found. Please update jupyter and ipywidgets. See https://ipywidgets.readthedocs.io/en/stable/user_install.html\n",
      "  from .autonotebook import tqdm as notebook_tqdm\n"
     ]
    }
   ],
   "source": [
    "import json\n",
    "import dspy\n",
    "\n",
    "\n",
    "with open('gen-ai-ucu-2024-task-3/zno.train.jsonl', 'r') as json_file:\n",
    "    json_list = list(json_file)\n",
    "\n",
    "all_questions = []\n",
    "for json_str in json_list:\n",
    "    result = json.loads(json_str)\n",
    "    all_questions.append(result)\n",
    "\n",
    "all_examples = []\n",
    "for sample in all_questions:\n",
    "    example = dspy.Example(\n",
    "        question=sample['question'],\n",
    "        options=sample['answers'],\n",
    "        subject = sample['subject'],\n",
    "        correct_answer = sample['correct_answers'][0]\n",
    "    ).with_inputs(\"question\", \"options\")\n",
    "    all_examples.append(example)"
   ]
  },
  {
   "cell_type": "code",
   "execution_count": 2,
   "metadata": {},
   "outputs": [],
   "source": [
    "train_set, test_set = all_examples[int(len(all_questions)*0.2):], all_examples[:int(len(all_questions)*0.2)]\n"
   ]
  },
  {
   "cell_type": "code",
   "execution_count": null,
   "metadata": {},
   "outputs": [],
   "source": [
    "#  vllm serve unsloth/Meta-Llama-3.1-8B-bnb-4bit --dtype float16 --gpu-memory-utilization 0.8 --max-model-len 13500 --quantization bitsandbytes --load-format bitsandbytes --served-model-name meta-llama/Llama-3.1-8B --trust-remote-code --chat-template llama_3.1_template.jinja\n",
    "\n",
    "# vllm serve unsloth/Meta-Llama-3.1-8B-Instruct-bnb-4bit --dtype float16 --gpu-memory-utilization 0.8 --max-model-len 13500 --quantization bitsandbytes --load-format bitsandbytes --served-model-name meta-llama/Llama-3.1-8B-Instruct --trust-remote-code\n",
    "\n",
    "# vllm serve unsloth/Meta-Llama-3.1-8B-Instruct-bnb-4bit \\\n",
    "#  --dtype float16 --gpu-memory-utilization 0.8 --max-model-len 13500 --quantization bitsandbytes \\\n",
    "#  --load-format bitsandbytes --served-model-name meta-llama/Llama-3.1-8B-Instruct --trust-remote-code \\\n",
    "#  --enable-lora \\\n",
    "#  --lora-modules mylora120steps=./lora_adapter_llama8b_120\n",
    "\n",
    "\n",
    "# vllm serve unsloth/Meta-Llama-3.1-8B-Instruct-bnb-4bit \\\n",
    "#  --dtype float16 --gpu-memory-utilization 0.8 --max-model-len 13500 --quantization bitsandbytes \\\n",
    "#  --load-format bitsandbytes --served-model-name meta-llama/Llama-3.1-8B-Instruct --trust-remote-code \\\n",
    "#  --enable-lora \\\n",
    "#  --lora-modules mylora3epochs=./lora_adapter_llama8b_30epochs\n",
    "\n",
    "# vllm serve meta-llama/Llama-2-7b-hf \\\n",
    "   "
   ]
  },
  {
   "cell_type": "code",
   "execution_count": 5,
   "metadata": {},
   "outputs": [],
   "source": [
    "\n",
    "lm = dspy.LM('openai/meta-llama/Llama-3.1-8B-Instruct',api_base=\"http://localhost:8000/v1\",  # ensure this points to your port\n",
    "             api_key=\"local\", model_type='chat')\n",
    "dspy.configure(lm=lm)"
   ]
  },
  {
   "cell_type": "code",
   "execution_count": 6,
   "metadata": {},
   "outputs": [
    {
     "data": {
      "text/plain": [
       "[\"It seems like you're trying to initiate a conversation. I'd be happy to chat with you. How's your day going so far?\"]"
      ]
     },
     "execution_count": 6,
     "metadata": {},
     "output_type": "execute_result"
    }
   ],
   "source": [
    "lm(\"Hello 12\")"
   ]
  },
  {
   "cell_type": "code",
   "execution_count": 16,
   "metadata": {},
   "outputs": [],
   "source": [
    "from typing import Literal\n",
    "\n",
    "class Categorize(dspy.Signature):\n",
    "    \"\"\"Solve exam problem.\"\"\"\n",
    "\n",
    "    question: str = dspy.InputField()\n",
    "    options: list[dict[str,str]] = dspy.InputField()\n",
    "    similar_examples : list[str] = dspy.InputField()\n",
    "    correct_marker: str = dspy.OutputField()\n",
    "\n",
    "classify = dspy.Predict(Categorize, False,cache=False)\n",
    "# classify = dspy.ChainOfThought(Categorize, False,cache=False)\n",
    "\n",
    "# classify.load(\"BootstrapFewShotWithRandomSearch_program_15_candidates_llama.json\")\n",
    "\n",
    "# Here is how we call this module\n",
    "# classification = classify(question = all_examples[-1].question, options = all_examples[-1].options, cache=False)"
   ]
  },
  {
   "cell_type": "code",
   "execution_count": null,
   "metadata": {},
   "outputs": [],
   "source": [
    "from langchain_huggingface import HuggingFaceEmbeddings\n",
    "from langchain_chroma import Chroma\n",
    "\n",
    "embeddings = HuggingFaceEmbeddings(model_name=\"jinaai/jina-embeddings-v3\",model_kwargs = {\"trust_remote_code\": True})\n",
    "\n",
    "vector_store = Chroma(\n",
    "    collection_name=\"ukrainian_language\",\n",
    "    persist_directory=\"./chroma_db\",\n",
    "    embedding_function=embeddings,\n",
    ")\n",
    "\n"
   ]
  },
  {
   "cell_type": "code",
   "execution_count": 8,
   "metadata": {},
   "outputs": [
    {
     "name": "stdout",
     "output_type": "stream",
     "text": [
      "Позначте словосполучення, у якому порушено граматичну норму на позначення часу:\n"
     ]
    },
    {
     "data": {
      "text/plain": [
       "[\"Question: НЕПРАВИЛЬНО побудовано словосполучення на позначення часу\\nOptions:[{'marker': 'А', 'text': 'десять (хвилин) на десяту'}, {'marker': 'Б', 'text': 'чверть по одинадцятій'}, {'marker': 'В', 'text': 'третя година десять хвилин'}, {'marker': 'Г', 'text': 'за п’ять (хвилин) шоста'}, {'marker': 'Д', 'text': 'без п’ятнадцяти десять'}]\\nAnswer Д\",\n",
       " \"Question: Неправильно побудовано словосполучення на позначення часу\\nOptions:[{'marker': 'А', 'text': 'десять (хвилин) на десяту'}, {'marker': 'Б', 'text': 'чверть на одинадцяту'}, {'marker': 'В', 'text': 'без п’ятнадцяти десять'}, {'marker': 'Г', 'text': 'пів на дванадцяту'}, {'marker': 'Д', 'text': 'за п’ять (хвилин) шоста'}]\\nAnswer В\",\n",
       " 'Question: Граматично правильно утворено словосполучення\\nOptions:[{\\'marker\\': \\'А\\', \\'text\\': \\'розпочнеться в четвертій годині\\'}, {\\'marker\\': \\'Б\\', \\'text\\': \"зустрінемося за чверть дев\\'ята\"}, {\\'marker\\': \\'В\\', \\'text\\': \\'тренувалися до пів сьомої години\\'}, {\\'marker\\': \\'Г\\', \\'text\\': \\'прибігти без десяти хвилин третя\\'}, {\\'marker\\': \\'Д\\', \\'text\\': \"зателефонуйте після дев\\'яти\"}]\\nAnswer Б',\n",
       " \"Question: Граматичну помилку допущено в реченні\\nOptions:[{'marker': 'А', 'text': 'Коли ми проходили повз вежу, годинник пробив шосту.'}, {'marker': 'Б', 'text': 'На годиннику була шоста, коли ми проходили повз вежу.'}, {'marker': 'В', 'text': 'Проходячи повз вежу, ми почули бій годинника.'}, {'marker': 'Г', 'text': 'Годинник пробив шосту, а ми тільки проходили повз вежу.'}, {'marker': 'Д', 'text': 'Проходячи повз вежу, годинник пробив шосту годину.'}]\\nAnswer Д\"]"
      ]
     },
     "execution_count": 8,
     "metadata": {},
     "output_type": "execute_result"
    }
   ],
   "source": [
    "sample = test_set[1]\n",
    "print(sample.question)\n",
    "\n",
    "retrieved_docs = vector_store.similarity_search(sample.question)\n",
    "docs_list = [doc.page_content for doc in retrieved_docs]\n",
    "\n",
    "docs_list"
   ]
  },
  {
   "cell_type": "code",
   "execution_count": 9,
   "metadata": {},
   "outputs": [
    {
     "data": {
      "text/plain": [
       "[{'marker': 'А', 'text': 'рівно о першій;'},\n",
       " {'marker': 'Б', 'text': 'десять хвилин по шостій;'},\n",
       " {'marker': 'В', 'text': 'пів на десяту;'},\n",
       " {'marker': 'Г', 'text': 'сім годин двадцять хвилин;'},\n",
       " {'marker': 'Д', 'text': 'за двадцять п’ята.'}]"
      ]
     },
     "execution_count": 9,
     "metadata": {},
     "output_type": "execute_result"
    }
   ],
   "source": [
    "sample['options']"
   ]
  },
  {
   "cell_type": "code",
   "execution_count": 17,
   "metadata": {},
   "outputs": [
    {
     "name": "stderr",
     "output_type": "stream",
     "text": [
      "  0%|          | 0/612 [00:00<?, ?it/s]\n"
     ]
    }
   ],
   "source": [
    "from tqdm import tqdm\n",
    "\n",
    "classifications = []\n",
    "correct_answers = []\n",
    "for sample in tqdm(test_set):\n",
    "\n",
    "    if sample.subject == \"ukrainian-language-and-literature\":\n",
    "        retrieved_docs = vector_store.similarity_search(sample.question)\n",
    "        docs_list = [doc.page_content for doc in retrieved_docs]\n",
    "    elif sample.subject == \"history-of-ukraine\":\n",
    "        retrieved_docs = vector_store.similarity_search(sample.question)\n",
    "        docs_list = [doc.page_content for doc in retrieved_docs]\n",
    "    else:\n",
    "        docs_list = []\n",
    "\n",
    "    classification = classify(question = sample.question, options = sample.options, similar_examples=docs_list)\n",
    "    classifications.append(classification.correct_marker)\n",
    "    correct_answers.append(sample.correct_answer)\n",
    "    break"
   ]
  },
  {
   "cell_type": "code",
   "execution_count": 27,
   "metadata": {},
   "outputs": [],
   "source": [
    "allowed_answers = ['А', 'Б', 'В', 'Г', 'Д', '1', '2', '3', '4', '5', '6', '7', '8', '9']\n",
    "\n",
    "def post_process_sample(prediction:str) -> str:\n",
    "    found_answer = 'А'  # Default value\n",
    "\n",
    "    for allowed_answer in allowed_answers:\n",
    "        if allowed_answer in prediction:\n",
    "            found_answer = allowed_answer\n",
    "            # print(f\"answer {found_answer} for {classification}\")\n",
    "            break\n",
    "    return found_answer\n",
    "\n",
    "post_processed = []\n",
    "\n",
    "for classification in classifications:\n",
    "    found_answer = post_process_sample(classification)\n",
    "    post_processed.append(found_answer)"
   ]
  },
  {
   "cell_type": "code",
   "execution_count": 28,
   "metadata": {},
   "outputs": [
    {
     "data": {
      "text/plain": [
       "612"
      ]
     },
     "execution_count": 28,
     "metadata": {},
     "output_type": "execute_result"
    }
   ],
   "source": [
    "len(post_processed)"
   ]
  },
  {
   "cell_type": "code",
   "execution_count": 29,
   "metadata": {},
   "outputs": [],
   "source": [
    "from sklearn.metrics import accuracy_score, confusion_matrix\n",
    "import numpy as np\n",
    "\n",
    "def evaluate_model(predictions, ground_truth):\n",
    "    \"\"\"\n",
    "    Simple evaluation of classification model.\n",
    "    \n",
    "    Parameters:\n",
    "    predictions (list): Model's predicted answers\n",
    "    ground_truth (list): Correct answers\n",
    "    \"\"\"\n",
    "    # Calculate accuracy\n",
    "    accuracy = accuracy_score(ground_truth, predictions)\n",
    "    \n",
    "    # Get unique options\n",
    "    unique_options = sorted(list(set(predictions + ground_truth)))\n",
    "    \n",
    "    # Create confusion matrix\n",
    "    cm = confusion_matrix(ground_truth, predictions, labels=unique_options)\n",
    "    \n",
    "    # Print results\n",
    "    print(f\"Accuracy: {accuracy:.4f}\")\n",
    "    print(f\"\\nConfusion Matrix:\")\n",
    "    print(\"Options:\", unique_options)\n",
    "    print(cm)"
   ]
  },
  {
   "cell_type": "markdown",
   "metadata": {},
   "source": [
    "## Evaluations"
   ]
  },
  {
   "cell_type": "code",
   "execution_count": 30,
   "metadata": {},
   "outputs": [
    {
     "name": "stdout",
     "output_type": "stream",
     "text": [
      "Accuracy: 0.2598\n",
      "\n",
      "Confusion Matrix:\n",
      "Options: ['', '1', '4', '[[ marker \"В\" ]]', '[[ marker: \"Г\" ]]', '[[ marker: \"Д\", text: \"бігти — біжуть\" ]]', '[[marker: \"Б\"]]', '[[marker: \"Г\"]]', 'А', 'А, Б, В, Г, Д', 'Б', 'В', 'Варіант \"Г\" містить прийменник \"за\", який вказує місце дії.', 'Варіант А', 'Вибираємо відповідь, яка відповідає бажанню героя «списа приломити кінець поля Половецького». У подібних прикладах ми бачимо, що відповіддю на подібний запит був «Всеволод».', 'Вибираємо прикметник, який вказує на якість або стан чогось. У даному тексті такі прикметники як \"зела\", \"садів\", \"свята\", \"таїна\". Але тільки одне з них є правильним відповідником прикметника у даному тексті. Правильний відповідник прикметника у даному тексті - \"свята\".', 'Вибір правильного варіанту відповідає на питання про тип мовлення тексту. Правильний варіант відповідає на питання про тип мовлення тексту, який є розповіддю.', 'Вибір правильного варіанту залежить від змісту кожного варіанту. Варіант А відповідає змісту тексту про Галілео Галілея, який більш детальний і глибокий. Варіант Б відповідає змісту тексту про Абдуса Саляма, який більш загальний і короткий. Варіант В відповідає змісту тексту про Галілео Галілея, який більш детальний і глибокий. Варіант Г відповідає змісту тексту про Абдуса Саляма, який більш загальний і короткий.', 'Вибір правильної відповіді залежить від змісту питання. У цьому випадку питання стосується фільмів Параджанова, і правильна відповідь повинна містити інформацію про його фільми.', 'Вибір правильної відповіді залежить від розуміння змісту фразеологізму та його застосування в конкретному контексті. У цьому випадку правильною відповіддю є «В», оскільки воно найбільш точно відображає зміст фразеологізму.', 'Виправлення помилки в реченні (3) виглядає так: \"І носила в ту *не/ймовірну* весняну молоду ніч із срібної криниці срібним цеберцем срібну воду зозуля і її по землі.\"', 'Виправна відповідь - В. (1686 рік).', 'Виправна відповідь на питання про стиль тексту про Антуана де Сент-Екзюпері — це варіант \"Г\" (\"офіційно-діловий\").', 'Виправна відповідь на питання про фразеологізм стосується процесу набуття досвіду та майстерності. Правильна відповідь відповідає змісту фразеологізму та його застосуванню у тексті.', 'Виправний варіант відповідає варіанту «В», який стверджує, що «Підкорена суспільним законом людина досягає своєї мети в боротьбі».', 'Виправте речення, поставивши тире між частинами: \"Дощ пройшов хазяйським кроком - сад в росі купається.\"', 'Володимирові Сосюрі', 'Вірш «У всякого своя доля, і свій шлях широкий» належить до української класичної літератури і був написаний Іваном Котляревським.', 'Віршовий розмір твору відповідає «Д».', 'Г', 'Д', 'Немає жодних підстав вважати, що справжнім митцем є якийсь конкретний індивід. Всі вказані особливості можуть бути властивими багатьом людям.', 'Немає правильної відповіді серед варіантів.', 'Після вивчення всіх речень можна зробити висновок, що речення \"Гаї шумлять я слухаю хмарки біжать милуюся.\" є складним безсполучниковим, оскільки воно складається з декількох частин, які повинні бути поєднані тире для формування цілісного речення.', 'Після вивчення текстів подібних прикладів, ми побачили, що у першому реченні кожного прикладу міститься відокремлювальне означення. Отже, у даному тексті відокремлювальним означенням ускладнено перше речення.']\n",
      "[[0 0 0 ... 0 0 0]\n",
      " [0 0 0 ... 0 0 0]\n",
      " [0 0 0 ... 0 0 0]\n",
      " ...\n",
      " [0 0 0 ... 0 0 0]\n",
      " [0 0 0 ... 0 0 0]\n",
      " [0 0 0 ... 0 0 0]]\n"
     ]
    }
   ],
   "source": [
    "#RAG ON train data with COT\n",
    "evaluate_model(classifications,correct_answers)"
   ]
  },
  {
   "cell_type": "code",
   "execution_count": 31,
   "metadata": {},
   "outputs": [
    {
     "name": "stdout",
     "output_type": "stream",
     "text": [
      "Accuracy: 0.2794\n",
      "\n",
      "Confusion Matrix:\n",
      "Options: ['1', '4', 'А', 'Б', 'В', 'Г', 'Д']\n",
      "[[ 0  0  1  0  0  0  0]\n",
      " [ 0  0  1  0  0  0  0]\n",
      " [ 0  0 64  4 21 21  2]\n",
      " [ 0  0 74 23 39 21  8]\n",
      " [ 0  0 57 15 38 24  9]\n",
      " [ 0  0 55 10 25 34  7]\n",
      " [ 0  0 30  3  6  8 12]]\n"
     ]
    }
   ],
   "source": [
    "#RAG ON train data with COT\n",
    "evaluate_model(post_processed,correct_answers)"
   ]
  },
  {
   "cell_type": "code",
   "execution_count": 16,
   "metadata": {},
   "outputs": [
    {
     "name": "stdout",
     "output_type": "stream",
     "text": [
      "Accuracy: 0.2908\n",
      "\n",
      "Confusion Matrix:\n",
      "Options: ['\"Б\"', '(1)', '1', '4', 'А', 'Б', 'В', 'Василь Стус', 'Г', 'Д']\n",
      "[[ 0  0  0  0  0  0  0  0  0  0]\n",
      " [ 0  0  0  0  0  0  0  0  0  0]\n",
      " [ 0  0  0  0  0  0  0  0  1  0]\n",
      " [ 0  1  0  0  0  0  0  0  0  0]\n",
      " [ 1  0  0  0 15 10 55  0 29  2]\n",
      " [ 0  0  0  0  5 22 96  0 37  5]\n",
      " [ 0  0  0  0  9  8 95  1 28  2]\n",
      " [ 0  0  0  0  0  0  0  0  0  0]\n",
      " [ 0  0  0  0 12 17 60  1 38  3]\n",
      " [ 0  0  0  0  3  3 31  0 14  8]]\n"
     ]
    }
   ],
   "source": [
    "#RAG ON train data\n",
    "evaluate_model(classifications,correct_answers)"
   ]
  },
  {
   "cell_type": "code",
   "execution_count": 17,
   "metadata": {},
   "outputs": [
    {
     "name": "stdout",
     "output_type": "stream",
     "text": [
      "Accuracy: 0.2925\n",
      "\n",
      "Confusion Matrix:\n",
      "Options: ['1', '4', 'А', 'Б', 'В', 'Г', 'Д']\n",
      "[[ 0  0  0  0  0  1  0]\n",
      " [ 1  0  0  0  0  0  0]\n",
      " [ 0  0 15 11 55 29  2]\n",
      " [ 0  0  5 22 96 37  5]\n",
      " [ 0  0  9  8 96 28  2]\n",
      " [ 0  0 12 17 61 38  3]\n",
      " [ 0  0  3  3 31 14  8]]\n"
     ]
    }
   ],
   "source": [
    "#RAG ON train data\n",
    "evaluate_model(post_processed,correct_answers)"
   ]
  },
  {
   "cell_type": "code",
   "execution_count": 18,
   "metadata": {},
   "outputs": [
    {
     "name": "stdout",
     "output_type": "stream",
     "text": [
      "Accuracy: 0.2418\n",
      "\n",
      "Confusion Matrix:\n",
      "Options: ['\"І чужому научайтесь, й свого не цурайтесь\" є в творі \"Ісаія. Глава 35\"', '\"А\"', '\"Б\"', '\"В\"', '\"В. Тропінін, Т. Шевченко, І.Сошенко, В.Боровиковський\"', '\"Вона зрозуміла душевний *стан* гостя. У хлопця плечі широкі, *стан* високий.\"', '\"Г\"', '\"Д\"', '\"Мина Мазайло («Мина Мазайло» Миколи Куліша)\"', '\"Сумління людське, виявляється, схоже на вулик, його теж можна розтривожити (О. Гончар).\"', '\"е\"', '1', '17 вересня 1939 р.', '4', 'А', 'А, А, А, А, А', 'Б', 'В', 'В. Філатов і М. Стражеско, генетики М. Холодний та О. Сапєгін, фізики Л. Ландау і П. Капиця, історики М. Грушевський і Д. Баталій, економіст М. Волобуєв', 'Василеві Симоненку', 'Василь Стус', 'Велике розселення слов’ян тривало протягом V–VII ст.', 'Вельмишановна Валеріє Сергіївно!', 'Вибач мені *за/те*, що була неввічлива.', 'Вибух на четвертому енергоблоці Чорнобильської АЕС стався в квітні 1986 р.', 'Визволення УРСР від нацистських загарбників у її довоєнних кордонах здійснено в ході Львівсько-Сандомирської операції.', 'Виокремлення з козацького середовища козацької старшини в панівний привілейований стан.', 'Виправна відповідь: Б, 4', 'Виправте речення, замінивши тире між підметом і присудком на відповідний розділовий знак.', 'Виражений дієприкметниковий зворот у реченні: \"За Дніпром небо ясно палало всіма кольорами веселки.\"', 'Волинь.', 'Вона вмерла від того внутрішнього вогню, що гонив її до чину, тоді ще нездійснимого, – цю маленьку жінку з душею скованого Прометея (рядки 42-44).', 'Вплив сентименталізму істотно позначився на творі', 'Всеволод', 'Вільну академію пролетарської літератури (ВАПЛІТЕ) засновано', 'Віршовий розмір «Енеїди» Івана Котляревського — дактиль.', 'Г', 'Д', 'Дуже сильно діяти', 'Початковий текст містить кілька речень, які потрібно перекласти. Виберіть відповідні переклади для кожного речення:\\n\\n(1)Уміння радіти чужим успіхам мірило шляхетності.\\n(2)Якщо людину підтримати похвалити підкреслити щось хороше в ній вона намагається дорівнювати уявленню яке про неї склалося.\\n(3)Ось чому так важливо з дитинства культивувати в людині почуття власної гідності відчуття певної „собівартості” аби згодом не склався комплекс меншовартості.\\n(4)Недарма кажуть Якщо казати людині постійно що вона свиня то згодом вона зарохкає.\\n(5)Не ввічливо кидати компліменти малознайомим або незнайомим людям.\\n(6)Краще зачекати познайомившись ближче чи навіть заприятелювавши з ними.\\n(7)Але пам’ятаймо що слова похвали потрібні кожному.', 'С', 'Тире треба поставити в реченні (1), (2), (3), (4), (5), (6), (7).', 'записати до щоден..іка, лебедин..ий пух', 'лексичний повтор', 'о']\n",
      "[[0 0 0 ... 0 0 0]\n",
      " [0 0 0 ... 0 0 0]\n",
      " [0 0 0 ... 0 0 0]\n",
      " ...\n",
      " [0 0 0 ... 0 0 0]\n",
      " [0 0 0 ... 0 0 0]\n",
      " [0 0 0 ... 0 0 0]]\n"
     ]
    }
   ],
   "source": [
    "#untrained rag for ukr lan and history\n",
    "evaluate_model(classifications,correct_answers)"
   ]
  },
  {
   "cell_type": "code",
   "execution_count": 19,
   "metadata": {},
   "outputs": [
    {
     "name": "stdout",
     "output_type": "stream",
     "text": [
      "Accuracy: 0.2549\n",
      "\n",
      "Confusion Matrix:\n",
      "Options: ['1', '4', 'А', 'Б', 'В', 'Г', 'Д']\n",
      "[[ 1  0  0  0  0  0  0]\n",
      " [ 0  0  1  0  0  0  0]\n",
      " [ 0  0 27 12 47 17  9]\n",
      " [ 0  0 37 24 70 15 19]\n",
      " [ 0  0 30 12 75 19  7]\n",
      " [ 1  0 33  7 62 19  9]\n",
      " [ 0  0 13  3 28  5 10]]\n"
     ]
    }
   ],
   "source": [
    "#untrained rag for ukr lanand history\n",
    "evaluate_model(post_processed,correct_answers)"
   ]
  },
  {
   "cell_type": "code",
   "execution_count": 15,
   "metadata": {},
   "outputs": [
    {
     "name": "stdout",
     "output_type": "stream",
     "text": [
      "Accuracy: 0.2500\n",
      "\n",
      "Confusion Matrix:\n",
      "Options: ['\"І чужому научайтесь, й свого не цурайтесь\" є в творі \"Ісаія. Глава 35\"', '\"А\"', '\"В\"', '\"Вона зрозуміла душевний *стан* гостя. У хлопця плечі широкі, *стан* високий.\"', '\"Г\"', '\"Д\"', '\"Мина Мазайло («Мина Мазайло» Миколи Куліша)\"', '\"е\"', '\"соціально-психологічний роман\"', '1', '4', 'None', 'А', 'А, А, А, А, А', 'Б', 'В', 'В. Симоненка, І. Світличного.', 'Василь Стус', 'Вельмишановний пан лікар!', 'Вибач мені *за/те*, що була неввічлива.', 'Визволення УРСР від нацистських загарбників у її довоєнних кордонах здійснено в ході', 'Виправлення: \"Виділене слово вжите в прямому значенні в реченні\"', 'Виправте речення, замінивши тире між підметом і присудком на відповідний розділовий знак.', 'Виражений дієприкметниковий зворот у реченні: \"За Дніпром небо ясно палало всіма кольорами веселки.\"', 'Всеволод', 'Віршовий розмір «Енеїди» Івана Котляревського — дактиль.', 'Г', 'Д', 'Дуже сильно діяти', 'Початковий текст містить кілька речень, які потрібно перекласти. Виберіть відповідні переклади для кожного речення:\\n\\n(1)Уміння радіти чужим успіхам мірило шляхетності.\\n(2)Якщо людину підтримати похвалити підкреслити щось хороше в ній вона намагається дорівнювати уявленню яке про неї склалося.\\n(3)Ось чому так важливо з дитинства культивувати в людині почуття власної гідності відчуття певної „собівартості” аби згодом не склався комплекс меншовартості.\\n(4)Недарма кажуть Якщо казати людині постійно що вона свиня то згодом вона зарохкає.\\n(5)Не ввічливо кидати компліменти малознайомим або незнайомим людям.\\n(6)Краще зачекати познайомившись ближче чи навіть заприятелювавши з ними.\\n(7)Але пам’ятаймо що слова похвали потрібні кожному.', 'Тире треба поставити в реченні (1), (2), (3), (4), (5), (6), (7).', 'записати до щоден..іка, лебедин..ий пух', 'о']\n",
      "[[0 0 0 ... 0 0 0]\n",
      " [0 0 0 ... 0 0 0]\n",
      " [0 0 0 ... 0 0 0]\n",
      " ...\n",
      " [0 0 0 ... 0 0 0]\n",
      " [0 0 0 ... 0 0 0]\n",
      " [0 0 0 ... 0 0 0]]\n"
     ]
    }
   ],
   "source": [
    "#untrained rag for ukr lan\n",
    "evaluate_model(classifications,correct_answers)"
   ]
  },
  {
   "cell_type": "code",
   "execution_count": 16,
   "metadata": {},
   "outputs": [
    {
     "name": "stdout",
     "output_type": "stream",
     "text": [
      "Accuracy: 0.2565\n",
      "\n",
      "Confusion Matrix:\n",
      "Options: ['1', '4', 'А', 'Б', 'В', 'Г', 'Д']\n",
      "[[ 1  0  0  0  0  0  0]\n",
      " [ 0  0  1  0  0  0  0]\n",
      " [ 0  0 27 12 50 15  8]\n",
      " [ 0  0 34 30 64 16 21]\n",
      " [ 0  0 31 14 73 16  9]\n",
      " [ 0  0 33 10 56 19 13]\n",
      " [ 0  0 14  3 29  6  7]]\n"
     ]
    }
   ],
   "source": [
    "#untrained rag for ukr lan\n",
    "evaluate_model(post_processed,correct_answers)"
   ]
  },
  {
   "cell_type": "code",
   "execution_count": 39,
   "metadata": {},
   "outputs": [
    {
     "name": "stdout",
     "output_type": "stream",
     "text": [
      "Accuracy: 0.2565\n",
      "\n",
      "Confusion Matrix:\n",
      "Options: ['\"А\"', '\"Б\"', '\"В\"', '(1)Уміння радіти чужим успіхам мірило шляхетності. (2)Якщо людину підтримати похвалити підкреслити щось хороше в ній вона намагається дорівнювати уявленню яке про неї склалося. (3)Ось чому так важливо з дитинства культивувати в людині почуття власної гідності відчуття певної „собівартості” аби згодом не склався комплекс меншовартості. (4)Недарма кажуть Якщо казати людині постійно що вона свиня то згодом вона зарохкає. (5)Не ввічливо кидати компліменти малознайомим або незнайомим людям. (6)Краще зачекати познайомившись ближче чи навіть заприятелювавши з ними. (7)Але пам’ятаймо що слова похвали потрібні кожному.', '1', '4', '[]', 'А', 'А, Б, В, Г, Д', 'А-1, Б-2, В-3, Г-4, Д-5', 'АВГД', 'Б', 'В', 'Василеві Стусу', 'Г', 'Д']\n",
      "[[ 0  0  0  0  0  0  0  0  0  0  0  0  0  0  0  0]\n",
      " [ 0  0  0  0  0  0  0  0  0  0  0  0  0  0  0  0]\n",
      " [ 0  0  0  0  0  0  0  0  0  0  0  0  0  0  0  0]\n",
      " [ 0  0  0  0  0  0  0  0  0  0  0  0  0  0  0  0]\n",
      " [ 0  0  0  1  0  0  0  0  0  0  0  0  0  0  0  0]\n",
      " [ 0  0  0  0  0  0  1  0  0  0  0  0  0  0  0  0]\n",
      " [ 0  0  0  0  0  0  0  0  0  0  0  0  0  0  0  0]\n",
      " [ 2  1  0  0  0  0  0 13  0  0  1 16 67  0 11  1]\n",
      " [ 0  0  0  0  0  0  0  0  0  0  0  0  0  0  0  0]\n",
      " [ 0  0  0  0  0  0  0  0  0  0  0  0  0  0  0  0]\n",
      " [ 0  0  0  0  0  0  0  0  0  0  0  0  0  0  0  0]\n",
      " [ 1  3  1  0  0  0  0 15  0  1  0 36 89  0 14  5]\n",
      " [ 1  0  2  0  0  0  0 13  0  0  0 24 85  1 15  2]\n",
      " [ 0  0  0  0  0  0  0  0  0  0  0  0  0  0  0  0]\n",
      " [ 0  0  0  0  0  0  0  9  1  0  0 23 77  0 20  1]\n",
      " [ 0  0  0  0  0  0  0  5  0  0  1  6 39  0  5  3]]\n"
     ]
    }
   ],
   "source": [
    "evaluate_model(classifications,correct_answers)"
   ]
  },
  {
   "cell_type": "code",
   "execution_count": 61,
   "metadata": {},
   "outputs": [
    {
     "name": "stdout",
     "output_type": "stream",
     "text": [
      "Accuracy: 0.2712\n",
      "\n",
      "Confusion Matrix:\n",
      "Options: ['1', '4', 'А', 'Б', 'В', 'Г', 'Д']\n",
      "[[ 0  0  1  0  0  0  0]\n",
      " [ 0  0  1  0  0  0  0]\n",
      " [ 0  0 16 17 67 11  1]\n",
      " [ 0  0 17 39 90 14  5]\n",
      " [ 0  0 14 24 88 15  2]\n",
      " [ 0  0 10 23 77 20  1]\n",
      " [ 0  0  6  6 39  5  3]]\n"
     ]
    }
   ],
   "source": [
    "evaluate_model(post_processed,correct_answers)"
   ]
  }
 ],
 "metadata": {
  "kernelspec": {
   "display_name": "env",
   "language": "python",
   "name": "python3"
  },
  "language_info": {
   "codemirror_mode": {
    "name": "ipython",
    "version": 3
   },
   "file_extension": ".py",
   "mimetype": "text/x-python",
   "name": "python",
   "nbconvert_exporter": "python",
   "pygments_lexer": "ipython3",
   "version": "3.12.7"
  }
 },
 "nbformat": 4,
 "nbformat_minor": 2
}
